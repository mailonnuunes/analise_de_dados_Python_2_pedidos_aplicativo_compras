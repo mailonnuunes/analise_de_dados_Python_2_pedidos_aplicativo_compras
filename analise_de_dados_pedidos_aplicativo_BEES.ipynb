{
 "cells": [
  {
   "cell_type": "code",
   "execution_count": 77,
   "id": "9bc6e130",
   "metadata": {},
   "outputs": [],
   "source": [
    "import pandas as pd\n",
    "import matplotlib.pyplot as plt\n",
    "import numpy as np"
   ]
  },
  {
   "cell_type": "code",
   "execution_count": 98,
   "id": "ef149968",
   "metadata": {},
   "outputs": [],
   "source": [
    "df = pd.read_excel('report.xlsb', engine='pyxlsb', sheet_name= 'Pedidos Bees')\n"
   ]
  },
  {
   "cell_type": "code",
   "execution_count": 85,
   "id": "89fa1fe4",
   "metadata": {},
   "outputs": [
    {
     "data": {
      "text/plain": [
       "CONCAT                            0\n",
       "Coluna1                           0\n",
       "PEDIDOS BEES                      0\n",
       "PEDIDO FAS                       16\n",
       "ID CLIENTE FAS                    0\n",
       "DATA                              0\n",
       "HORA                              0\n",
       "STATUS                            0\n",
       "Numero Nota fiscal               85\n",
       "VALOR TOTAL                       0\n",
       "Forma de pagamento                0\n",
       "Quantidade de itens do pedido     0\n",
       "MÊS                               0\n",
       "dtype: int64"
      ]
     },
     "execution_count": 85,
     "metadata": {},
     "output_type": "execute_result"
    }
   ],
   "source": [
    "#função para verificar valores nulos\n",
    "df.isnull().sum()"
   ]
  },
  {
   "cell_type": "code",
   "execution_count": 86,
   "id": "100f6e1c",
   "metadata": {},
   "outputs": [],
   "source": [
    "#função para trocar os valores nulos por zero\n",
    "df = df.fillna(0)"
   ]
  },
  {
   "cell_type": "code",
   "execution_count": null,
   "id": "05b04426",
   "metadata": {},
   "outputs": [],
   "source": []
  },
  {
   "cell_type": "code",
   "execution_count": 87,
   "id": "11ccf56f",
   "metadata": {
    "scrolled": true
   },
   "outputs": [
    {
     "data": {
      "text/plain": [
       "CONCAT                           0\n",
       "Coluna1                          0\n",
       "PEDIDOS BEES                     0\n",
       "PEDIDO FAS                       0\n",
       "ID CLIENTE FAS                   0\n",
       "DATA                             0\n",
       "HORA                             0\n",
       "STATUS                           0\n",
       "Numero Nota fiscal               0\n",
       "VALOR TOTAL                      0\n",
       "Forma de pagamento               0\n",
       "Quantidade de itens do pedido    0\n",
       "MÊS                              0\n",
       "dtype: int64"
      ]
     },
     "execution_count": 87,
     "metadata": {},
     "output_type": "execute_result"
    }
   ],
   "source": [
    "# função para verificar se os valores nulos foram tratados\n",
    "df.isnull().sum()"
   ]
  },
  {
   "cell_type": "code",
   "execution_count": 89,
   "id": "4fbd5cd8",
   "metadata": {
    "scrolled": true
   },
   "outputs": [
    {
     "name": "stdout",
     "output_type": "stream",
     "text": [
      "CONCAT                           float64\n",
      "Coluna1                            int64\n",
      "PEDIDOS BEES                       int64\n",
      "PEDIDO FAS                       float64\n",
      "ID CLIENTE FAS                     int64\n",
      "DATA                               int64\n",
      "HORA                             float64\n",
      "STATUS                            object\n",
      "Numero Nota fiscal               float64\n",
      "VALOR TOTAL                      float64\n",
      "Forma de pagamento                object\n",
      "Quantidade de itens do pedido      int64\n",
      "MÊS                                int64\n",
      "dtype: object\n"
     ]
    }
   ],
   "source": [
    "print(df.dtypes)"
   ]
  },
  {
   "cell_type": "code",
   "execution_count": 96,
   "id": "428c6d4c",
   "metadata": {},
   "outputs": [
    {
     "data": {
      "text/plain": [
       "0      44970\n",
       "1      44970\n",
       "2      44970\n",
       "3      44970\n",
       "4      44964\n",
       "       ...  \n",
       "660    44840\n",
       "661    44841\n",
       "662    44841\n",
       "663    44841\n",
       "664    44841\n",
       "Name: DATA, Length: 665, dtype: object"
      ]
     },
     "execution_count": 96,
     "metadata": {},
     "output_type": "execute_result"
    }
   ],
   "source": [
    "df['DATA'].astype('object')"
   ]
  },
  {
   "cell_type": "code",
   "execution_count": null,
   "id": "f445b286",
   "metadata": {},
   "outputs": [],
   "source": []
  },
  {
   "cell_type": "code",
   "execution_count": 99,
   "id": "a4adcec2",
   "metadata": {},
   "outputs": [
    {
     "data": {
      "text/html": [
       "<div>\n",
       "<style scoped>\n",
       "    .dataframe tbody tr th:only-of-type {\n",
       "        vertical-align: middle;\n",
       "    }\n",
       "\n",
       "    .dataframe tbody tr th {\n",
       "        vertical-align: top;\n",
       "    }\n",
       "\n",
       "    .dataframe thead th {\n",
       "        text-align: right;\n",
       "    }\n",
       "</style>\n",
       "<table border=\"1\" class=\"dataframe\">\n",
       "  <thead>\n",
       "    <tr style=\"text-align: right;\">\n",
       "      <th></th>\n",
       "      <th>CONCAT</th>\n",
       "      <th>Coluna1</th>\n",
       "      <th>PEDIDOS BEES</th>\n",
       "      <th>PEDIDO FAS</th>\n",
       "      <th>ID CLIENTE FAS</th>\n",
       "      <th>DATA</th>\n",
       "      <th>data2</th>\n",
       "      <th>HORA</th>\n",
       "      <th>STATUS</th>\n",
       "      <th>Numero Nota fiscal</th>\n",
       "      <th>VALOR TOTAL</th>\n",
       "      <th>Forma de pagamento</th>\n",
       "      <th>Quantidade de itens do pedido</th>\n",
       "      <th>MÊS</th>\n",
       "    </tr>\n",
       "  </thead>\n",
       "  <tbody>\n",
       "    <tr>\n",
       "      <th>0</th>\n",
       "      <td>9.089100e+15</td>\n",
       "      <td>57039</td>\n",
       "      <td>9089100317</td>\n",
       "      <td>NaN</td>\n",
       "      <td>890050267014820</td>\n",
       "      <td>44970</td>\n",
       "      <td>NaN</td>\n",
       "      <td>0.633264</td>\n",
       "      <td>Registrado</td>\n",
       "      <td>NaN</td>\n",
       "      <td>1053.31</td>\n",
       "      <td>Boleto</td>\n",
       "      <td>348</td>\n",
       "      <td>2</td>\n",
       "    </tr>\n",
       "    <tr>\n",
       "      <th>1</th>\n",
       "      <td>9.089103e+15</td>\n",
       "      <td>57039</td>\n",
       "      <td>9089103140</td>\n",
       "      <td>NaN</td>\n",
       "      <td>890050096011373</td>\n",
       "      <td>44970</td>\n",
       "      <td>NaN</td>\n",
       "      <td>0.637975</td>\n",
       "      <td>Registrado</td>\n",
       "      <td>NaN</td>\n",
       "      <td>975.97</td>\n",
       "      <td>Boleto</td>\n",
       "      <td>258</td>\n",
       "      <td>2</td>\n",
       "    </tr>\n",
       "    <tr>\n",
       "      <th>2</th>\n",
       "      <td>9.089105e+15</td>\n",
       "      <td>57010</td>\n",
       "      <td>9089105115</td>\n",
       "      <td>NaN</td>\n",
       "      <td>890000010068795</td>\n",
       "      <td>44970</td>\n",
       "      <td>NaN</td>\n",
       "      <td>0.641250</td>\n",
       "      <td>Registrado</td>\n",
       "      <td>NaN</td>\n",
       "      <td>440.23</td>\n",
       "      <td>Boleto</td>\n",
       "      <td>108</td>\n",
       "      <td>2</td>\n",
       "    </tr>\n",
       "    <tr>\n",
       "      <th>3</th>\n",
       "      <td>9.089119e+15</td>\n",
       "      <td>57010</td>\n",
       "      <td>9089119488</td>\n",
       "      <td>NaN</td>\n",
       "      <td>45544574000169</td>\n",
       "      <td>44970</td>\n",
       "      <td>NaN</td>\n",
       "      <td>0.663634</td>\n",
       "      <td>Registrado</td>\n",
       "      <td>NaN</td>\n",
       "      <td>100.37</td>\n",
       "      <td>Boleto</td>\n",
       "      <td>22</td>\n",
       "      <td>2</td>\n",
       "    </tr>\n",
       "    <tr>\n",
       "      <th>4</th>\n",
       "      <td>9.088399e+15</td>\n",
       "      <td>57039</td>\n",
       "      <td>9088398693</td>\n",
       "      <td>1049181.0</td>\n",
       "      <td>890050267013379</td>\n",
       "      <td>44964</td>\n",
       "      <td>44964.0</td>\n",
       "      <td>0.791076</td>\n",
       "      <td>Em transito</td>\n",
       "      <td>NaN</td>\n",
       "      <td>1562.76</td>\n",
       "      <td>Boleto</td>\n",
       "      <td>435</td>\n",
       "      <td>2</td>\n",
       "    </tr>\n",
       "  </tbody>\n",
       "</table>\n",
       "</div>"
      ],
      "text/plain": [
       "         CONCAT  Coluna1  PEDIDOS BEES  PEDIDO FAS   ID CLIENTE FAS   DATA  \\\n",
       "0  9.089100e+15    57039    9089100317         NaN  890050267014820  44970   \n",
       "1  9.089103e+15    57039    9089103140         NaN  890050096011373  44970   \n",
       "2  9.089105e+15    57010    9089105115         NaN  890000010068795  44970   \n",
       "3  9.089119e+15    57010    9089119488         NaN   45544574000169  44970   \n",
       "4  9.088399e+15    57039    9088398693   1049181.0  890050267013379  44964   \n",
       "\n",
       "     data2      HORA       STATUS  Numero Nota fiscal  VALOR TOTAL  \\\n",
       "0      NaN  0.633264   Registrado                 NaN      1053.31   \n",
       "1      NaN  0.637975   Registrado                 NaN       975.97   \n",
       "2      NaN  0.641250   Registrado                 NaN       440.23   \n",
       "3      NaN  0.663634   Registrado                 NaN       100.37   \n",
       "4  44964.0  0.791076  Em transito                 NaN      1562.76   \n",
       "\n",
       "  Forma de pagamento  Quantidade de itens do pedido  MÊS  \n",
       "0             Boleto                            348    2  \n",
       "1             Boleto                            258    2  \n",
       "2             Boleto                            108    2  \n",
       "3             Boleto                             22    2  \n",
       "4             Boleto                            435    2  "
      ]
     },
     "execution_count": 99,
     "metadata": {},
     "output_type": "execute_result"
    }
   ],
   "source": [
    "df.head()"
   ]
  },
  {
   "cell_type": "code",
   "execution_count": 70,
   "id": "c31079b8",
   "metadata": {},
   "outputs": [
    {
     "data": {
      "image/png": "[encoded data removed]",
      "text/plain": [
       "<Figure size 1000x400 with 2 Axes>"
      ]
     },
     "metadata": {},
     "output_type": "display_data"
    }
   ],
   "source": [
    "figura= plt.figure(figsize=(10,4))\n",
    "figura.add_subplot(121)\n",
    "#adicionando o que sera representado no grafico\n",
    "nome_cdvs=[57010,57039]\n",
    "#adicionando valores\n",
    "#criando funcao para colocar os valores no grafico\n",
    "contagem_cdvs = df['Coluna1'].value_counts(ascending=False)\n",
    "\n",
    "#funcão para criar a auto porcentagem com % e numero em baixo.\n",
    "def func(pct, allvalues): \n",
    "    absolute = int(pct / 100.*np.sum(allvalues)) \n",
    "    return \"{:.2f}%\\n{:d}\".format(pct, absolute)\n",
    "#adicionando cores\n",
    "cores = ['#FF8C00','#4169E1']\n",
    "#distanciamento das partes\n",
    "explosion = (0.0,0.0)\n",
    "#criando grafico de pizza\n",
    "plt.pie(contagem_cdvs,autopct= lambda pct: func(pct,contagem_cdvs), colors=cores,labels=nome_cdvs,pctdistance=0.85,explode=explosion,startangle= 0)\n",
    "#desenhando o circulo\n",
    "circulo_centro = plt.Circle((0,0),0.70, fc='white')\n",
    "fig = plt.gcf()\n",
    "#adiionando o circulo ao grafico de pizza\n",
    "fig.gca().add_artist(circulo_centro)\n",
    "#adicionando titulo ao grafico\n",
    "plt.title('Total de pedidos')\n",
    "plt.legend()\n",
    "\n",
    "figura.add_subplot(122) #criação do segundo grafico\n",
    "#filtrar linhas do dataframe(excel)\n",
    "somente_pedidos_concluidos = df['STATUS'] != 'Cancelado'\n",
    "filtro_concluido = df[somente_pedidos_concluidos]\n",
    "#adicionando o que sera representado no grafico\n",
    "nome_cdvs=[57010,57039]\n",
    "#criando funcao para colocar os valores no grafico\n",
    "contagem_cdvs = filtro_concluido['Coluna1'].value_counts(ascending=False)\n",
    "#funcão para criar a auto porcentagem com % e numero em baixo.\n",
    "def fun(pct, allvalues):\n",
    "    absolute = int(pct/100.*np.sum(allvalues))\n",
    "    return \"{:.2f}%\\n{:d}\".format(pct,absolute)\n",
    "#adicionando cores\n",
    "cores = ['#FF8C00','#4169E1']\n",
    "#distanciamento das partes\n",
    "explosion = (0.0,0.0)\n",
    "#criando grafico de pizza\n",
    "plt.pie(contagem_cdvs, autopct = lambda pct: func(pct,contagem_cdvs), colors = cores,labels = nome_cdvs, pctdistance=0.85, explode = explosion,startangle= 0)\n",
    "#desenhando o circulo\n",
    "circulo_centro = plt.Circle((0,0),0.70, fc='white')\n",
    "fig = plt.gcf()\n",
    "#adiionando o circulo ao grafico de pizza\n",
    "fig.gca().add_artist(circulo_centro)\n",
    "#adicionando titulo ao grafico\n",
    "plt.title('Pedidos Faturados')\n",
    "plt.legend()\n",
    "#mostrar na tela\n",
    "plt.show(figura)\n"
   ]
  },
  {
   "cell_type": "code",
   "execution_count": 71,
   "id": "e94ba395",
   "metadata": {
    "scrolled": true
   },
   "outputs": [
    {
     "data": {
      "image/png": "[encoded data removed]",
      "text/plain": [
       "<Figure size 700x300 with 1 Axes>"
      ]
     },
     "metadata": {},
     "output_type": "display_data"
    }
   ],
   "source": [
    "#criando o espaço onde ficara o grafico e configurando o tamanho\n",
    "fig = plt.figure(figsize=(7,3))\n",
    "figura.add_subplot()\n",
    "\n",
    "#fazendo a agrupagem e a contagem dos status dos pedidos\n",
    "contagem_status = df['STATUS'].value_counts(ascending=False)\n",
    "#nome dos status para o eixo vertical\n",
    "nomes_status = ('Entregue','Cancelado','Em transito','Registrado')\n",
    "plt.barh(nomes_status, contagem_status, color=\"#4169E1\",height = 0.5, align='center')\n",
    "for index, value in enumerate(contagem_status):\n",
    "    plt.text(value, index,\n",
    "             str(value))\n",
    "plt.title('Status pedidos')\n",
    "plt.show()"
   ]
  },
  {
   "cell_type": "code",
   "execution_count": 90,
   "id": "d2aff395",
   "metadata": {},
   "outputs": [
    {
     "name": "stdout",
     "output_type": "stream",
     "text": [
      "CONCAT                                  float64\n",
      "Coluna1                                   int64\n",
      "PEDIDOS BEES                              int64\n",
      "PEDIDO FAS                              float64\n",
      "ID CLIENTE FAS                            int64\n",
      "DATA                             datetime64[ns]\n",
      "HORA                                    float64\n",
      "STATUS                                   object\n",
      "Numero Nota fiscal                      float64\n",
      "VALOR TOTAL                             float64\n",
      "Forma de pagamento                       object\n",
      "Quantidade de itens do pedido             int64\n",
      "MÊS                                       int64\n",
      "dtype: object\n"
     ]
    }
   ],
   "source": [
    "df['DATA'] = pd.to_datetime(df['DATA'])\n",
    "\n",
    "#deixando as datas em ordem decrescente\n",
    "intervalo_datas = df.sort_values(by=['DATA'],ascending=True)\n",
    "\n",
    "#fazendo a contagem das datas\n",
    "\n",
    "print(df.dtypes)"
   ]
  },
  {
   "cell_type": "code",
   "execution_count": 91,
   "id": "13021884",
   "metadata": {},
   "outputs": [
    {
     "data": {
      "text/html": [
       "<div>\n",
       "<style scoped>\n",
       "    .dataframe tbody tr th:only-of-type {\n",
       "        vertical-align: middle;\n",
       "    }\n",
       "\n",
       "    .dataframe tbody tr th {\n",
       "        vertical-align: top;\n",
       "    }\n",
       "\n",
       "    .dataframe thead th {\n",
       "        text-align: right;\n",
       "    }\n",
       "</style>\n",
       "<table border=\"1\" class=\"dataframe\">\n",
       "  <thead>\n",
       "    <tr style=\"text-align: right;\">\n",
       "      <th></th>\n",
       "      <th>CONCAT</th>\n",
       "      <th>Coluna1</th>\n",
       "      <th>PEDIDOS BEES</th>\n",
       "      <th>PEDIDO FAS</th>\n",
       "      <th>ID CLIENTE FAS</th>\n",
       "      <th>DATA</th>\n",
       "      <th>HORA</th>\n",
       "      <th>STATUS</th>\n",
       "      <th>Numero Nota fiscal</th>\n",
       "      <th>VALOR TOTAL</th>\n",
       "      <th>Forma de pagamento</th>\n",
       "      <th>Quantidade de itens do pedido</th>\n",
       "      <th>MÊS</th>\n",
       "    </tr>\n",
       "  </thead>\n",
       "  <tbody>\n",
       "    <tr>\n",
       "      <th>0</th>\n",
       "      <td>9.089100e+15</td>\n",
       "      <td>57039</td>\n",
       "      <td>9089100317</td>\n",
       "      <td>0.0</td>\n",
       "      <td>890050267014820</td>\n",
       "      <td>1970-01-01 00:00:00.000044970</td>\n",
       "      <td>0.633264</td>\n",
       "      <td>Registrado</td>\n",
       "      <td>0.0</td>\n",
       "      <td>1053.31</td>\n",
       "      <td>Boleto</td>\n",
       "      <td>348</td>\n",
       "      <td>2</td>\n",
       "    </tr>\n",
       "    <tr>\n",
       "      <th>1</th>\n",
       "      <td>9.089103e+15</td>\n",
       "      <td>57039</td>\n",
       "      <td>9089103140</td>\n",
       "      <td>0.0</td>\n",
       "      <td>890050096011373</td>\n",
       "      <td>1970-01-01 00:00:00.000044970</td>\n",
       "      <td>0.637975</td>\n",
       "      <td>Registrado</td>\n",
       "      <td>0.0</td>\n",
       "      <td>975.97</td>\n",
       "      <td>Boleto</td>\n",
       "      <td>258</td>\n",
       "      <td>2</td>\n",
       "    </tr>\n",
       "    <tr>\n",
       "      <th>2</th>\n",
       "      <td>9.089105e+15</td>\n",
       "      <td>57010</td>\n",
       "      <td>9089105115</td>\n",
       "      <td>0.0</td>\n",
       "      <td>890000010068795</td>\n",
       "      <td>1970-01-01 00:00:00.000044970</td>\n",
       "      <td>0.641250</td>\n",
       "      <td>Registrado</td>\n",
       "      <td>0.0</td>\n",
       "      <td>440.23</td>\n",
       "      <td>Boleto</td>\n",
       "      <td>108</td>\n",
       "      <td>2</td>\n",
       "    </tr>\n",
       "    <tr>\n",
       "      <th>3</th>\n",
       "      <td>9.089119e+15</td>\n",
       "      <td>57010</td>\n",
       "      <td>9089119488</td>\n",
       "      <td>0.0</td>\n",
       "      <td>45544574000169</td>\n",
       "      <td>1970-01-01 00:00:00.000044970</td>\n",
       "      <td>0.663634</td>\n",
       "      <td>Registrado</td>\n",
       "      <td>0.0</td>\n",
       "      <td>100.37</td>\n",
       "      <td>Boleto</td>\n",
       "      <td>22</td>\n",
       "      <td>2</td>\n",
       "    </tr>\n",
       "    <tr>\n",
       "      <th>4</th>\n",
       "      <td>9.088399e+15</td>\n",
       "      <td>57039</td>\n",
       "      <td>9088398693</td>\n",
       "      <td>1049181.0</td>\n",
       "      <td>890050267013379</td>\n",
       "      <td>1970-01-01 00:00:00.000044964</td>\n",
       "      <td>0.791076</td>\n",
       "      <td>Em transito</td>\n",
       "      <td>0.0</td>\n",
       "      <td>1562.76</td>\n",
       "      <td>Boleto</td>\n",
       "      <td>435</td>\n",
       "      <td>2</td>\n",
       "    </tr>\n",
       "  </tbody>\n",
       "</table>\n",
       "</div>"
      ],
      "text/plain": [
       "         CONCAT  Coluna1  PEDIDOS BEES  PEDIDO FAS   ID CLIENTE FAS  \\\n",
       "0  9.089100e+15    57039    9089100317         0.0  890050267014820   \n",
       "1  9.089103e+15    57039    9089103140         0.0  890050096011373   \n",
       "2  9.089105e+15    57010    9089105115         0.0  890000010068795   \n",
       "3  9.089119e+15    57010    9089119488         0.0   45544574000169   \n",
       "4  9.088399e+15    57039    9088398693   1049181.0  890050267013379   \n",
       "\n",
       "                           DATA      HORA       STATUS  Numero Nota fiscal  \\\n",
       "0 1970-01-01 00:00:00.000044970  0.633264   Registrado                 0.0   \n",
       "1 1970-01-01 00:00:00.000044970  0.637975   Registrado                 0.0   \n",
       "2 1970-01-01 00:00:00.000044970  0.641250   Registrado                 0.0   \n",
       "3 1970-01-01 00:00:00.000044970  0.663634   Registrado                 0.0   \n",
       "4 1970-01-01 00:00:00.000044964  0.791076  Em transito                 0.0   \n",
       "\n",
       "   VALOR TOTAL Forma de pagamento  Quantidade de itens do pedido  MÊS  \n",
       "0      1053.31             Boleto                            348    2  \n",
       "1       975.97             Boleto                            258    2  \n",
       "2       440.23             Boleto                            108    2  \n",
       "3       100.37             Boleto                             22    2  \n",
       "4      1562.76             Boleto                            435    2  "
      ]
     },
     "execution_count": 91,
     "metadata": {},
     "output_type": "execute_result"
    }
   ],
   "source": [
    "df.head()"
   ]
  },
  {
   "cell_type": "code",
   "execution_count": null,
   "id": "1a6f10b5",
   "metadata": {},
   "outputs": [],
   "source": []
  },
  {
   "cell_type": "code",
   "execution_count": null,
   "id": "f279821d",
   "metadata": {},
   "outputs": [],
   "source": []
  }
 ],
 "metadata": {
  "kernelspec": {
   "display_name": "Python 3 (ipykernel)",
   "language": "python",
   "name": "python3"
  },
  "language_info": {
   "codemirror_mode": {
    "name": "ipython",
    "version": 3
   },
   "file_extension": ".py",
   "mimetype": "text/x-python",
   "name": "python",
   "nbconvert_exporter": "python",
   "pygments_lexer": "ipython3",
   "version": "3.9.13"
  }
 },
 "nbformat": 4,
 "nbformat_minor": 5
}
